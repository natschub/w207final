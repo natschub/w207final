{
 "cells": [
  {
   "cell_type": "markdown",
   "metadata": {},
   "source": [
    "In this project a dataset containing crime statistics in the San Francisco area from X to Y is analyzed with the goal of creating a model to predict the nature of a crime based only on its time and location. \n",
    "\n",
    "More information on the project and its dataset can be found here:\n",
    "https://www.kaggle.com/c/sf-crime"
   ]
  },
  {
   "cell_type": "code",
   "execution_count": null,
   "metadata": {},
   "outputs": [],
   "source": [
    "import sys, os\n",
    "import pandas\n",
    "import numpy as np\n",
    "from sklearn.neighbors import KNeighborsClassifier\n",
    "from sklearn.ensemble import RandomForestClassifier"
   ]
  },
  {
   "cell_type": "markdown",
   "metadata": {},
   "source": [
    "#### Loading data into training, dev, and test sets using headings provided from the sample submission"
   ]
  },
  {
   "cell_type": "code",
   "execution_count": null,
   "metadata": {},
   "outputs": [],
   "source": [
    "# Define header (from sample submission)\n",
    "header = [\"ID\", \"ARSON\", \"ASSAULT\", \"BAD CHECKS\", \"BRIBERY\", \"BURGLARY\",\n",
    "          \"DISORDERLY CONDUCT\", \"DRIVING UNDER THE INFLUENCE\", \"DRUG/NARCOTIC\",\n",
    "          \"DRUNKENNESS\", \"EMBEZZLEMENT\", \"EXTORTION\", \"FAMILY OFFENSES\",\n",
    "          \"FORGERY/COUNTERFEITING\", \"FRAUD\", \"GAMBLING\", \"KIDNAPPING\", \"LARCENY/THEFT\",\n",
    "          \"LIQUOR LAWS\", \"LOITERING\", \"MISSING PERSON\", \"NON-CRIMINAL\", \"OTHER OFFENSES\",\n",
    "          \"PORNOGRAPHY/OBSCENE MAT\", \"PROSTITUTION\", \"RECOVERED VEHICLE\", \"ROBBERY\",\n",
    "          \"RUNAWAY\", \"SECONDARY CODES\", \"SEX OFFENSES FORCIBLE\", \"SEX OFFENSES NON FORCIBLE\",\n",
    "          \"STOLEN PROPERTY\", \"SUICIDE\", \"SUSPICIOUS OCC\", \"TREA\", \"TRESPASS\", \"VANDALISM\",\n",
    "          \"VEHICLE THEFT\", \"WARRANTS\", \"WEAPON LAWS\"]\n",
    "\n",
    "# Load training data\n",
    "df = pandas.read_csv(\"train.csv\")\n",
    "\n",
    "# Binarize with dummy variables\n",
    "temp_df = df[['DayOfWeek', 'PdDistrict']]\n",
    "temp_df = pandas.get_dummies(temp_df)\n",
    "\n",
    "# Format datetime\n",
    "time_df = pandas.to_datetime(df['Dates']).dt.hour\n",
    "\n",
    "# Join columns\n",
    "temp_df = pandas.DataFrame(df['Category']).join(pandas.DataFrame(time_df)).join(temp_df)\n",
    "\n",
    "# Split into data/labels, train/dev\n",
    "train_data = temp_df[temp_df.columns.difference(['Category'])][:-5000]\n",
    "train_labels = temp_df['Category'][:-5000]\n",
    "\n",
    "dev_data = temp_df[temp_df.columns.difference(['Category'])][-5000:]\n",
    "dev_labels = temp_df['Category'][-5000:]\n",
    "\n",
    "# Load test data\n",
    "df_test = pandas.read_csv(\"test.csv\")\n",
    "\n",
    "# Binarize with dummy variables\n",
    "temp_df = df_test[['DayOfWeek', 'PdDistrict']]\n",
    "temp_df = pandas.get_dummies(temp_df)\n",
    "\n",
    "# Format datetime\n",
    "time_df = pandas.to_datetime(df_test['Dates']).dt.hour\n",
    "\n",
    "# Join columns\n",
    "test_data = pandas.DataFrame(time_df).join(temp_df)\n",
    "\n",
    "# Clean\n",
    "df = temp_df = time_df = None "
   ]
  },
  {
   "cell_type": "markdown",
   "metadata": {},
   "source": [
    "#### Train and fit a K-NN classifier using training data. Predict test set labels and output to a compressed CSV file"
   ]
  },
  {
   "cell_type": "code",
   "execution_count": null,
   "metadata": {},
   "outputs": [],
   "source": [
    "# Train KNN Classifier\n",
    "neigh = KNeighborsClassifier(n_neighbors=5)\n",
    "\n",
    "# Fit\n",
    "neigh.fit(train_data, train_labels) \n",
    "\n",
    "# Predict\n",
    "result = neigh.predict(test_data)\n",
    "result = pandas.DataFrame(result)\n",
    "result = pandas.get_dummies(result, prefix='', prefix_sep='')\n",
    "# Add null categories to make kaggle happy\n",
    "result = result.T.reindex(header).T.fillna(0)\n",
    "\n",
    "# Output\n",
    "result.to_csv(\"output_knn.csv\", compression='gzip', chunksize=1000)\n",
    "\n",
    "# Return score\n",
    "#neigh.score(dev_data, dev_labels)\n",
    "\n",
    "# Train RandomForestClassifier\n",
    "#rfc = RandomForestClassifier(n_estimators=10, max_depth=None, min_samples_split=2, random_state=0)\n",
    "# Fit\n",
    "#rfc.fit(train_data, train_labels)\n",
    "# Predict\n",
    "#rfc.score(dev_data, dev_labels)\n",
    "\n",
    "#result = rfc.predict(test_data)\n",
    "#result = pandas.DataFrame(result)\n",
    "#result = pandas.get_dummies(result)\n",
    "\n",
    "#result.to_csv(\"output_rfc.csv\", compression='gzip', chunksize=1000)"
   ]
  }
 ],
 "metadata": {
  "kernelspec": {
   "display_name": "Python 2",
   "language": "python",
   "name": "python2"
  },
  "language_info": {
   "codemirror_mode": {
    "name": "ipython",
    "version": 2
   },
   "file_extension": ".py",
   "mimetype": "text/x-python",
   "name": "python",
   "nbconvert_exporter": "python",
   "pygments_lexer": "ipython2",
   "version": "2.7.14"
  }
 },
 "nbformat": 4,
 "nbformat_minor": 2
}
